{
 "cells": [
  {
   "cell_type": "code",
   "execution_count": 1,
   "id": "56c82c9b-02b8-48cd-91c5-fc74f13f6e41",
   "metadata": {},
   "outputs": [],
   "source": [
    "import ollama\n",
    "import os\n",
    "\n",
    "import numpy as np\n"
   ]
  },
  {
   "cell_type": "code",
   "execution_count": 2,
   "id": "b6dac456-1b91-41e3-89fa-3dcff829dcf4",
   "metadata": {},
   "outputs": [],
   "source": [
    "def embed(doc):\n",
    "    return ollama.embed(model=\"nomic-embed-text\", input=doc)['embeddings']\n",
    "    #model=\"avr/sfr-embedding-mistral\"\n",
    "#vector_store.add_documents(documents=chunks, ids=uuids)"
   ]
  },
  {
   "cell_type": "code",
   "execution_count": 3,
   "id": "9430b952-feb2-40dd-9f2a-9060a308f7f3",
   "metadata": {},
   "outputs": [
    {
     "name": "stderr",
     "output_type": "stream",
     "text": [
      "Intel(R) Extension for Scikit-learn* enabled (https://github.com/intel/scikit-learn-intelex)\n"
     ]
    }
   ],
   "source": [
    "#use sklearn\n",
    "from sklearnex import patch_sklearn\n",
    "patch_sklearn()\n",
    "\n",
    "from  sklearn.neighbors import NearestNeighbors\n",
    "\n",
    "short_search = NearestNeighbors(n_neighbors=5, radius=1.0, algorithm='auto', metric='cosine')\n",
    "\n",
    "long_search = NearestNeighbors(n_neighbors=5, radius=1.0, algorithm='auto', metric='cosine')"
   ]
  },
  {
   "cell_type": "code",
   "execution_count": null,
   "id": "6a6f0f71-9dcd-48e3-8684-dcbb9dd16aae",
   "metadata": {},
   "outputs": [
    {
     "name": "stderr",
     "output_type": "stream",
     "text": [
      " 11%|█████                                        | 140665/1246108 [19:47<2:40:06, 115.08it/s]"
     ]
    }
   ],
   "source": [
    "import joblib\n",
    "import h5py\n",
    "import json\n",
    "from tqdm import tqdm\n",
    "long_chunks = joblib.load('chunks.pkl')\n",
    "\n",
    "long_chunks_embed = np.zeros((len(long_chunks), 768))\n",
    "long_strings =[]\n",
    "for i in tqdm(range(len(long_chunks))):\n",
    "    content = json.dumps(\n",
    "            long_chunks[i].page_content)\n",
    "    long_chunks_embed[i] = np.array(embed(content))\n",
    "    long_strings.append(content)\n",
    "\n",
    "print(long_chunks_embed[0])\n",
    "\n",
    "#long_embed = np.vstack(long_chunks_embed)\n",
    "\n",
    "long_search.fit(long_chunks_embed)\n",
    "\n",
    "joblib.dump(long_search, 'long_search_sk_nomic.pkl')\n"
   ]
  },
  {
   "cell_type": "code",
   "execution_count": null,
   "id": "3bb6903c-cfcb-4239-95e7-06552e56d2c3",
   "metadata": {},
   "outputs": [],
   "source": [
    "with h5py.File(\"nomic_db.hdf5\", \"w\") as f:\n",
    "    long_set = f.create_dataset(\"long_chunks\", (len(long_strings),), maxshape = (None,), dtype=h5py.string_dtype())\n",
    "    long_set[:] = long_strings"
   ]
  },
  {
   "cell_type": "code",
   "execution_count": null,
   "id": "fc58bc10-7066-46b3-a7f7-5088a158cd50",
   "metadata": {},
   "outputs": [],
   "source": [
    "\"\"\"\n",
    "with h5py.File(\"chunks_db.hdf5\", \"r\") as f:\n",
    "    print(str(f['long_chunks'][12500]))\n",
    "\"\"\""
   ]
  },
  {
   "cell_type": "code",
   "execution_count": null,
   "id": "f0ff1005-75b9-470d-96fb-c48855f99092",
   "metadata": {},
   "outputs": [],
   "source": [
    "\"\"\"\n",
    "from cuml.neighbors import NearestNeighbors as cuNN\n",
    "long_cusearch = cuNN(metric = 'cosine')\n",
    "long_cusearch.fit(long_chunks_embed)\n",
    "\"\"\""
   ]
  },
  {
   "cell_type": "code",
   "execution_count": null,
   "id": "7dc15a02-587c-4df7-83d2-a3c8b63f39b2",
   "metadata": {},
   "outputs": [],
   "source": [
    "\"\"\"\n",
    "l2_cusearch = cuNN(metric = 'l2')\n",
    "l2_cusearch.fit(long_chunks_embed)\n",
    "joblib.dump(l2_cusearch, 'cul2search.pkl')\n",
    "\"\"\""
   ]
  },
  {
   "cell_type": "code",
   "execution_count": null,
   "id": "aec3a16c-cfaa-45b0-8455-502061aa1fc2",
   "metadata": {},
   "outputs": [],
   "source": [
    "#joblib.dump(long_cusearch, 'cusearch.pkl')"
   ]
  },
  {
   "cell_type": "code",
   "execution_count": null,
   "id": "baba0993-7184-4ce7-bf7b-e7a2ec9de347",
   "metadata": {},
   "outputs": [],
   "source": [
    "joblib.dump(long_chunks_embed, 'long_nomic_embed.pkl')"
   ]
  },
  {
   "cell_type": "code",
   "execution_count": null,
   "id": "7c5c9b8d-4796-44b4-886c-01e8767bcc35",
   "metadata": {},
   "outputs": [],
   "source": [
    "short_chunks = joblib.load('short_chunks.pkl')\n",
    "\n",
    "short_chunks_embed = []\n",
    "\n",
    "short_chunks_embed = np.zeros((len(short_chunks), 768))\n",
    "short_strings =[]\n",
    "for i in tqdm(range(len(long_chunks))):\n",
    "    content = json.dumps(\n",
    "            short_chunks[i].page_content)\n",
    "    short_chunks_embed[i] = np.array(embed(content))\n",
    "    short_strings.append(content)\n",
    "    \n",
    "for i in tqdm(short_chunks):\n",
    "    short_chunks_embed.append(embed(\n",
    "        json.dumps(\n",
    "            i.page_content)))\n",
    "\n",
    "\n",
    "\n",
    "\n",
    "short_search.fit(short_embed)\n",
    "\n",
    "joblib.dump(short_search, 'short_search_sk_nomic.pkl')\n",
    "\n",
    "with h5py.File(\"nomic_db.hdf5\", \"w\") as f:\n",
    "    short_set = f.create_dataset(\"short_chunks\", (len(short_strings),), maxshape = (None,), dtype=h5py.string_dtype())\n",
    "    short_set[:] = short_strings\n"
   ]
  }
 ],
 "metadata": {
  "kernelspec": {
   "display_name": "Python 3 (ipykernel)",
   "language": "python",
   "name": "python3"
  },
  "language_info": {
   "codemirror_mode": {
    "name": "ipython",
    "version": 3
   },
   "file_extension": ".py",
   "mimetype": "text/x-python",
   "name": "python",
   "nbconvert_exporter": "python",
   "pygments_lexer": "ipython3",
   "version": "3.12.4"
  }
 },
 "nbformat": 4,
 "nbformat_minor": 5
}
